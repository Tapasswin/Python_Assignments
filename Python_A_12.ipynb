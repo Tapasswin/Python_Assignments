{
 "cells": [
  {
   "cell_type": "markdown",
   "metadata": {},
   "source": [
    "1.In what modes should the PdfFileReader() and PdfFileWriter() File objects will be opened?\n",
    "\n",
    "Ans. For PdfFileReader() the file will be opeining in \"rb\" read binary mode and for PdfFileWriter() the file opeining in \"wb\" write binary mode."
   ]
  },
  {
   "cell_type": "markdown",
   "metadata": {},
   "source": [
    "2.From a PdfFileReader object, how do you get a Page object for page 5?\n",
    "\n",
    "Ans.PdfFileReader class provide a method called getpage(page number), will return the page based on the number provided."
   ]
  },
  {
   "cell_type": "markdown",
   "metadata": {},
   "source": [
    "3.What PdfFileReader variable stores the number of pages in the PDF document?\n",
    "\n",
    "Ans.getNumPages() method of PdfFileReader class stores the number of pages in a pdf."
   ]
  },
  {
   "cell_type": "markdown",
   "metadata": {},
   "source": [
    "4.If a PdfFileReader object’s PDF is encrypted with the password swordfish, what must you do\n",
    "before you can obtain Page objects from it?\n",
    "\n",
    "Ans.PdfFileReader provide an attribute called isEncrypted to check pdf is encrypted are not, returns true if encrypted and vice versa. We can use decrypt() method to decrypt the pdf, If we not done it will throw an error PyPDF2.utils.PdfReadError: file has not been decrypted."
   ]
  },
  {
   "cell_type": "markdown",
   "metadata": {},
   "source": [
    "5.What methods do you use to rotate a page?\n",
    "\n",
    "Ans.We will be having, rotateClockWise() and rotateCounterClockWise() method to rotate the pdf."
   ]
  },
  {
   "cell_type": "markdown",
   "metadata": {},
   "source": [
    "6.What is the difference between a Run object and a Paragraph object?\n",
    "\n",
    "Ans.In python we are having three different datatypes in python-Docx, Document object represents the entire document in document object we will be having the list of paragrah object for the paragraphs of the document and each paragraph object contains a list of one or more run object. "
   ]
  },
  {
   "cell_type": "markdown",
   "metadata": {},
   "source": [
    "7.How do you obtain a list of Paragraph objects for a Document object that’s stored in a variable\n",
    "named doc?"
   ]
  },
  {
   "cell_type": "code",
   "execution_count": 4,
   "metadata": {},
   "outputs": [
    {
     "name": "stdout",
     "output_type": "stream",
     "text": [
      "[<docx.text.paragraph.Paragraph object at 0x000002703C9E26A0>]\n",
      "Mahendra Singh Dhoni (born 7 July 1981) is an Indian professional  who was captain of the  in limited-overs formats from 2007 to 2017 and in  from 2008 to 2014. He is a right-handed  . He led the team to three ICC trophies including the ,  and . Under his Captaincy India won  for two times,  and . India also won ICC Test Championship Mace for two times 2010 and 2011 under his leadership. He is considered as one of the greatest Captain and Wicket Keeper–Batsman of all time. He has won several awards and accolades throughout his career\t\n"
     ]
    }
   ],
   "source": [
    "from docx import Document\n",
    "d = Document(\"text.docx\")\n",
    "print(d.paragraphs)\n",
    "for paragraph in d.paragraphs:\n",
    "    print(paragraph.text)"
   ]
  },
  {
   "cell_type": "markdown",
   "metadata": {},
   "source": [
    "8.What type of object has bold, underline, italic, strike, and outline variables?\n",
    "\n",
    "Ans. The run object has bold, underline, italic, strike and outline variables."
   ]
  },
  {
   "cell_type": "markdown",
   "metadata": {},
   "source": [
    "9.What is the difference between False, True, and None for the bold variable?\n",
    "\n",
    "Ans.For False style not set to bold, True style set to bold and None style not applicable.  "
   ]
  },
  {
   "cell_type": "markdown",
   "metadata": {},
   "source": [
    "10.How do you create a Document object for a new Word document?"
   ]
  },
  {
   "cell_type": "code",
   "execution_count": 5,
   "metadata": {},
   "outputs": [],
   "source": [
    "from docx import Document\n",
    "doc = Document()\n",
    "doc.add_paragraph(\"This is the first para\")\n",
    "doc.save('first.docx')"
   ]
  },
  {
   "cell_type": "markdown",
   "metadata": {},
   "source": [
    "11.How do you add a paragraph with the text &#39;Hello, there!&#39; to a Document object stored in a\n",
    "variable named doc?\n"
   ]
  },
  {
   "cell_type": "code",
   "execution_count": 6,
   "metadata": {},
   "outputs": [],
   "source": [
    "from docx import Document\n",
    "doc = Document()\n",
    "doc.add_paragraph('Hello, there!')\n",
    "doc.save('hello.docx')"
   ]
  },
  {
   "cell_type": "markdown",
   "metadata": {},
   "source": [
    "12.What integers represent the levels of headings available in Word documents?\n",
    "\n",
    "Ans.The levels for a heading in a word document can be specified by using the level attribute inside the add_heading method. There are a total of 5 levels starting from 0 to 4. where level 0 makes a headline with the horizontal line below the text, whereas the heading level 1 is the main heading. Similarly, the other headings are sub-heading with their's font-sizes in decreasing order."
   ]
  }
 ],
 "metadata": {
  "kernelspec": {
   "display_name": "Python 3",
   "language": "python",
   "name": "python3"
  },
  "language_info": {
   "codemirror_mode": {
    "name": "ipython",
    "version": 3
   },
   "file_extension": ".py",
   "mimetype": "text/x-python",
   "name": "python",
   "nbconvert_exporter": "python",
   "pygments_lexer": "ipython3",
   "version": "3.8.3"
  }
 },
 "nbformat": 4,
 "nbformat_minor": 4
}
