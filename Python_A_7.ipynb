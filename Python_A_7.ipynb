{
 "cells": [
  {
   "cell_type": "markdown",
   "metadata": {},
   "source": [
    "1.What is the name of the feature responsible for generating Regex objects?\n",
    "\n",
    "Ans. re.compile() is the feature that generates regex object."
   ]
  },
  {
   "cell_type": "markdown",
   "metadata": {},
   "source": [
    "2.Why do raw strings often appear in Regex objects?\n",
    "\n",
    "Ans. Raw Strings are used so that backslashes ('\\') do not have to be escape."
   ]
  },
  {
   "cell_type": "markdown",
   "metadata": {},
   "source": [
    "3.What is the return value of the search() method?\n",
    "\n",
    "Ans. The search() method returns a object if pattern found else it returns None."
   ]
  },
  {
   "cell_type": "markdown",
   "metadata": {},
   "source": [
    "4.From a Match item, how do you get the actual strings that match the pattern?\n",
    "\n",
    "Ans. For the match items group() method will return the actual matched string."
   ]
  },
  {
   "cell_type": "markdown",
   "metadata": {},
   "source": [
    "5. In the regex which created from the r'(\\d\\d\\d)-(\\d\\d\\d-\\d\\d\\d\\d)', what does group zero cover? Group 2? Group 1?\n",
    "\n",
    "Ans. In regex the group zero will return the entire matched string, group 1 (\\d\\d\\d) and group 2 (\\d\\d\\d-\\d\\d\\d\\d)."
   ]
  },
  {
   "cell_type": "code",
   "execution_count": 5,
   "metadata": {},
   "outputs": [
    {
     "name": "stdout",
     "output_type": "stream",
     "text": [
      "123-456-7890\n",
      "123\n",
      "456-7890\n"
     ]
    }
   ],
   "source": [
    "import re\n",
    "\n",
    "result = re.compile(r'(\\d\\d\\d)-(\\d\\d\\d-\\d\\d\\d\\d)')\n",
    "r = result.search(\"This is my landline number 123-456-7890\")\n",
    "print(r.group())\n",
    "print(r.group(1))\n",
    "print(r.group(2))"
   ]
  },
  {
   "cell_type": "markdown",
   "metadata": {},
   "source": [
    "6. In standard expression syntax, parentheses and intervals have distinct meanings. How can you tell a regex that you want it to fit real parentheses and periods?\n",
    "\n",
    "Ans. In regex we can have the value with parentheses by using escape characters '\\(' and '\\)'."
   ]
  },
  {
   "cell_type": "code",
   "execution_count": 7,
   "metadata": {},
   "outputs": [
    {
     "data": {
      "text/plain": [
       "'(99)'"
      ]
     },
     "execution_count": 7,
     "metadata": {},
     "output_type": "execute_result"
    }
   ],
   "source": [
    "r = re.compile('(\\(\\d\\d\\))')\n",
    "rr = r.search(\"My rule number is (99)\")\n",
    "rr.group()"
   ]
  },
  {
   "cell_type": "markdown",
   "metadata": {},
   "source": [
    "7. The findall() method returns a string list or a list of string tuples. What causes it to return one of the two options?\n",
    "\n",
    "Ans. In regex if no groups are present it returns list of string, If groups present it returns list of string tuples."
   ]
  },
  {
   "cell_type": "markdown",
   "metadata": {},
   "source": [
    "8. In standard expressions, what does the | character mean?\n",
    "\n",
    "Ans In standard expressions '|' means 'or' operator."
   ]
  },
  {
   "cell_type": "markdown",
   "metadata": {},
   "source": [
    "9. In regular expressions, what does the '?' character stand for?\n",
    "\n",
    "Ans. In regular expression '?' character represent zero or one matches to the string."
   ]
  },
  {
   "cell_type": "markdown",
   "metadata": {},
   "source": [
    "10.In regular expressions, what is the difference between the + and * characters?\n",
    "\n",
    "Ans. In regular expressions '*' represent zero or more occurances and '+' represnts one or more occurances of the string."
   ]
  },
  {
   "cell_type": "markdown",
   "metadata": {},
   "source": [
    "11. What is the difference between {4} and {4,5} in regular expression?\n",
    "\n",
    "Ans. {4} means it should repeat 4 times and {4,5} means it should repeat minimum 4 and maximum 5."
   ]
  },
  {
   "cell_type": "markdown",
   "metadata": {},
   "source": [
    "12. What do you mean by the \\d, \\w, and \\s shorthand character classes signify in regular expressions?\n",
    "\n",
    "Ans.\\d – Matches digit character equivalent to [0-9]\n",
    "    \\w – Matches a word character equivalent to [a-zA-Z0-9_]\n",
    "    \\s – Matches whitespace character."
   ]
  },
  {
   "cell_type": "markdown",
   "metadata": {},
   "source": [
    "13. What do means by \\D, \\W, and \\S shorthand character classes signify in regular expressions?\n",
    "\n",
    "Ans. \\D – Matches any non-digit character, this is equivalent to the set class [^0-9]\n",
    "     \\W – Matches any non-alphanumeric character equivalent to [^a-zA-Z0-9_]\n",
    "     \\S – Matches any non-whitespace character"
   ]
  },
  {
   "cell_type": "code",
   "execution_count": 16,
   "metadata": {},
   "outputs": [
    {
     "data": {
      "text/plain": [
       "\"14.What is the difference between '.*?' and '.*' ?\\n\\nAns. '.*' It returns the longest string which satisfy the condition and '.*?' returns the shortest string which satisfy the condition.\""
      ]
     },
     "execution_count": 16,
     "metadata": {},
     "output_type": "execute_result"
    }
   ],
   "source": [
    "\"\"\"14.What is the difference between '.*?' and '.*' ?\n",
    "\n",
    "Ans. '.*' It returns the longest string which satisfy the condition \n",
    "and '.*?' returns the shortest string which satisfy the condition.\"\"\""
   ]
  },
  {
   "cell_type": "markdown",
   "metadata": {},
   "source": [
    "15. What is the syntax for matching both numbers and lowercase letters with a character class?\n",
    "\n",
    "Ans. The syntax for matching both the numbera and lowercase letters are [a-z0-9] or [0-9a-z]."
   ]
  },
  {
   "cell_type": "markdown",
   "metadata": {},
   "source": [
    "16. What is the procedure for making a normal expression in regax case insensitive?\n",
    "\n",
    "Ans. We can pass re.IGNORECASE as a flag to make a noraml expression case insensitive."
   ]
  },
  {
   "cell_type": "markdown",
   "metadata": {},
   "source": [
    "17. What does the . character normally match? What does it match if re.DOTALL is passed as 2nd argument in re.compile()?\n",
    "\n",
    "Ans. '.' character match everything in input except the new line and by passing re.DOTALL as a flag to re.compile(), you can make the dot character match all characters, including the newline character."
   ]
  },
  {
   "cell_type": "markdown",
   "metadata": {},
   "source": [
    "18. If numReg = re.compile(r'\\d+'), what will numRegex.sub('X', '11 drummers, 10 pipers, five rings, 4 hen') return?\n",
    "\n",
    "Ans. The Ouput will be 'X drummers, X pipers, five rings, X hen'"
   ]
  },
  {
   "cell_type": "raw",
   "metadata": {},
   "source": [
    "19. What does passing re.VERBOSE as the 2nd argument to re.compile() allow to do?\n",
    "\n",
    "Ans. re.VERBOSE will allow to add whitespace and comments to string passed to re.compile()."
   ]
  },
  {
   "cell_type": "code",
   "execution_count": 10,
   "metadata": {},
   "outputs": [
    {
     "name": "stdout",
     "output_type": "stream",
     "text": [
      "42 <re.Match object; span=(0, 2), match='42'>\n",
      "1,234 <re.Match object; span=(0, 5), match='1,234'>\n",
      "6,368,745 <re.Match object; span=(0, 9), match='6,368,745'>\n",
      "12,34,567 None\n",
      "1234 None\n"
     ]
    }
   ],
   "source": [
    "# 20. How would you write a regex that match a number with comma for every three digits? It must match the given following ?\n",
    "num = re.compile(r'^\\d{1,3}(,\\d{3})*$')\n",
    "\n",
    "for i in ['42','1,234', '6,368,745','12,34,567','1234']:\n",
    "    print(i +\" \"+ str(num.search(i)))"
   ]
  },
  {
   "cell_type": "code",
   "execution_count": 13,
   "metadata": {},
   "outputs": [
    {
     "name": "stdout",
     "output_type": "stream",
     "text": [
      "Haruto Watanabe---<re.Match object; span=(0, 15), match='Haruto Watanabe'>\n",
      "Alice Watanabe---<re.Match object; span=(0, 14), match='Alice Watanabe'>\n",
      "RoboCop Watanabe---<re.Match object; span=(4, 16), match='Cop Watanabe'>\n",
      "haruto Watanabe---None\n",
      "Mr. Watanabe---None\n",
      "Watanabe---None\n",
      "Haruto watanabe---None\n"
     ]
    }
   ],
   "source": [
    "\"\"\"21. How would you write a regex that matches the full name of someone whose last name is Watanabe? \n",
    "You can assume that the first name that comes before it will always be one word that begins with a capital letter. \n",
    "The regex must match the following?\"\"\"\n",
    "\n",
    "a = re.compile(r'[A-Z]{1}[a-z]*\\sWatanabe')\n",
    "for i in ['Haruto Watanabe','Alice Watanabe','RoboCop Watanabe','haruto Watanabe','Mr. Watanabe','Watanabe','Haruto watanabe']:\n",
    "    print(i +\"---\"+str(a.search(i)))"
   ]
  },
  {
   "cell_type": "code",
   "execution_count": 15,
   "metadata": {},
   "outputs": [
    {
     "name": "stdout",
     "output_type": "stream",
     "text": [
      "Alice eats apples.---<re.Match object; span=(0, 18), match='Alice eats apples.'>\n",
      "Bob pets cats.---<re.Match object; span=(0, 14), match='Bob pets cats.'>\n",
      "Carol throws baseballs.---<re.Match object; span=(0, 23), match='Carol throws baseballs.'>\n",
      "Alice throws Apples.---None\n",
      "BOB EATS CATS.---None\n",
      "RoboCop eats apples.---None\n",
      "ALICE THROWS FOOTBALLS.---None\n",
      "Carol eats 7 cats.---None\n"
     ]
    }
   ],
   "source": [
    "\"\"\"22. How would you write a regex that matches a sentence where the first word is either Alice, Bob, or Carol; \n",
    "the second word is either eats, pets, or throws; the third word is apples, cats, or baseballs; \n",
    "and the sentence ends with a period? This regex should be case-insensitive. \n",
    "It must match the following:\"\"\"\n",
    "\n",
    "b = re.compile(r'(Alice|Bob|Carol)\\s(eats|pets|throws)\\s(apples|cats|baseballs)\\.')\n",
    "\n",
    "for i in ['Alice eats apples.','Bob pets cats.','Carol throws baseballs.','Alice throws Apples.','BOB EATS CATS.','RoboCop eats apples.'\n",
    ",'ALICE THROWS FOOTBALLS.','Carol eats 7 cats.']:\n",
    "    print(i+\"---\"+str(b.search(i)))"
   ]
  }
 ],
 "metadata": {
  "kernelspec": {
   "display_name": "Python 3",
   "language": "python",
   "name": "python3"
  },
  "language_info": {
   "codemirror_mode": {
    "name": "ipython",
    "version": 3
   },
   "file_extension": ".py",
   "mimetype": "text/x-python",
   "name": "python",
   "nbconvert_exporter": "python",
   "pygments_lexer": "ipython3",
   "version": "3.8.3"
  }
 },
 "nbformat": 4,
 "nbformat_minor": 4
}
