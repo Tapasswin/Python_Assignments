{
 "cells": [
  {
   "cell_type": "raw",
   "metadata": {},
   "source": [
    "1.Is the Python Standard Library included with PyInputPlus?\n",
    "\n",
    "Ans. No, PyInputPlus will not include in standard library we need to install by using this command !pip install PyInputPlus."
   ]
  },
  {
   "cell_type": "raw",
   "metadata": {},
   "source": [
    "2.Why is PyInputPlus commonly imported with import pyinputplus as pypi?\n",
    "\n",
    "Ans. You can import PyInputPlus using import pyinputplus as pypi, So you can use this short name pypi for calling the module."
   ]
  },
  {
   "cell_type": "raw",
   "metadata": {},
   "source": [
    "3.How do you distinguish between inputInt() and inputFloat()?\n",
    "\n",
    "Ans. inputInt() will accepts an integer value, It will return an int.\n",
    "\n",
    "     inputFloat() will accepts an float value, It will return an float.\n",
    "     \n",
    "     Both will take additional parameters min,max,greaterthan and lessthan."
   ]
  },
  {
   "cell_type": "raw",
   "metadata": {},
   "source": [
    "4.Using PyInputPlus, how do you ensure that the user enters a whole number between 0 and 99?\n",
    "\n",
    "Ans. In PyInputPlus we are having inputInt() which can only return Int values and for that we can provide parameters as min and max."
   ]
  },
  {
   "cell_type": "code",
   "execution_count": 11,
   "metadata": {},
   "outputs": [
    {
     "name": "stdout",
     "output_type": "stream",
     "text": [
      "109\n",
      "Number must be at maximum 99.\n",
      "100\n",
      "Number must be at maximum 99.\n",
      "101\n",
      "Number must be at maximum 99.\n",
      "99.9\n",
      "'99.9' is not an integer.\n",
      "0\n",
      "0\n"
     ]
    }
   ],
   "source": [
    "import pyinputplus as pypi\n",
    "result = pypi.inputInt(min=0, max=99)\n",
    "print(result)"
   ]
  },
  {
   "cell_type": "raw",
   "metadata": {},
   "source": [
    "5.What is transferred to the keyword arguments allowRegexes and blockRegexes?\n",
    "\n",
    "Ans. We can use allowRegexes and blockRegexes keyword arguments to take list of regular expression string and pyinputplus will reject are accept it."
   ]
  },
  {
   "cell_type": "raw",
   "metadata": {},
   "source": [
    "6.If a blank input is entered three times, what does inputStr(limit=3) do?\n",
    "\n",
    "Ans. If we blank input for three times it will throw an ValidationException and RetryLimitException.\n",
    "     ValidationException - This exception was thrown because the blank values are not allowed. If we want we need to set blank=True\n",
    "     RetryLimitException - This exception was thrown because the limit was exceded which we mentioned as parameter. To avoid this exception we can use default."
   ]
  },
  {
   "cell_type": "raw",
   "metadata": {},
   "source": [
    "7.If blank input is entered three times, what does inputStr(limit=3, default='hello') do?\n",
    "\n",
    "Ans. If blank input is entered three times, It will print the 'hello' (message or string)."
   ]
  },
  {
   "cell_type": "code",
   "execution_count": null,
   "metadata": {},
   "outputs": [],
   "source": []
  }
 ],
 "metadata": {
  "kernelspec": {
   "display_name": "Python 3",
   "language": "python",
   "name": "python3"
  },
  "language_info": {
   "codemirror_mode": {
    "name": "ipython",
    "version": 3
   },
   "file_extension": ".py",
   "mimetype": "text/x-python",
   "name": "python",
   "nbconvert_exporter": "python",
   "pygments_lexer": "ipython3",
   "version": "3.8.3"
  }
 },
 "nbformat": 4,
 "nbformat_minor": 4
}
