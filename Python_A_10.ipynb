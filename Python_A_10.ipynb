{
 "cells": [
  {
   "cell_type": "markdown",
   "metadata": {},
   "source": [
    "1.How do you distinguish between shutil.copy() and shutil.copytree()?\n",
    "\n",
    "Ans. In shutil.copy() we are having the two parameters source and destination where the file/folder will be copied from source to the mentioned destination path.\n",
    "In shutil.copytree() also we are having two parameters that source and destination where it will copy the entire folder to the destination and the destination must not exist prior to this and it will be created during copy operation."
   ]
  },
  {
   "cell_type": "markdown",
   "metadata": {},
   "source": [
    "2.What function is used to rename files??\n",
    "\n",
    "Ans. os.rename() function is used to rename the file. It takes two parameters source and destination as the source is the path which contains with the old file name and destination will containe with the new file name."
   ]
  },
  {
   "cell_type": "markdown",
   "metadata": {},
   "source": [
    "3.What is the difference between the delete functions in the send2trash and shutil modules?\n",
    "\n",
    "Ans.The function send2trash() will delete the file where we can recovery back from the trash.shutil function will delete the file permanently and also it cannot be recovery back."
   ]
  },
  {
   "cell_type": "markdown",
   "metadata": {},
   "source": [
    "4.ZipFile objects have a close() method just like File objects’ close() method. What ZipFile method is\n",
    "equivalent to File objects’ open() method?\n",
    "\n",
    "Ans. ZipFile Module provides a method called as zipfile.ZipFile() to read and write to zipFiles. It takes arugments like filename and mode. zipfile.ZipFile('filename', mode = 'r')"
   ]
  },
  {
   "cell_type": "markdown",
   "metadata": {},
   "source": [
    "5.Create a programme that searches a folder tree for files with a certain file extension (such as .pdf\n",
    "or .jpg). Copy these files from whatever location they are in to a new folder."
   ]
  },
  {
   "cell_type": "code",
   "execution_count": 5,
   "metadata": {},
   "outputs": [
    {
     "name": "stdout",
     "output_type": "stream",
     "text": [
      "C:\\Users\\Manch\\Desktop\\Python Assignments\\source_file C:\\Users\\Manch\\Desktop\\Python Assignments\\destination_file\n"
     ]
    }
   ],
   "source": [
    "import shutil\n",
    "import os\n",
    "\n",
    "def copy_file(source,destination,extentions):\n",
    "    src_path = os.path.abspath(source)\n",
    "    des_path = os.path.abspath(destination)\n",
    "    for folder,sub_folder,filenames in os.walk(source):\n",
    "        for filename in filenames:\n",
    "            name,extention = os.path.splitext(filename)\n",
    "            if extention in extentions:\n",
    "                src = folder+os.path.sep+name+extention\n",
    "                shutil.copy(src,des_path)\n",
    "    print(src_path+\" \"+des_path)\n",
    "extentions = [\".pdf\", \".jpg\",\".png\"]\n",
    "source = \"source_file\"\n",
    "destination = \"destination_file\"\n",
    "copy_file(source,destination,extentions)"
   ]
  }
 ],
 "metadata": {
  "kernelspec": {
   "display_name": "Python 3",
   "language": "python",
   "name": "python3"
  },
  "language_info": {
   "codemirror_mode": {
    "name": "ipython",
    "version": 3
   },
   "file_extension": ".py",
   "mimetype": "text/x-python",
   "name": "python",
   "nbconvert_exporter": "python",
   "pygments_lexer": "ipython3",
   "version": "3.8.3"
  }
 },
 "nbformat": 4,
 "nbformat_minor": 4
}
