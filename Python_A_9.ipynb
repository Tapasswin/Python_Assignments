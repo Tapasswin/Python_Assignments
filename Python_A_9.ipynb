{
 "cells": [
  {
   "cell_type": "markdown",
   "metadata": {},
   "source": [
    "1.To what does a relative path refer?\n",
    "Ans. The relative path is the path of your current working directory.\n",
    "     Absolute path = PWD + relative path."
   ]
  },
  {
   "cell_type": "markdown",
   "metadata": {},
   "source": [
    "2.What does an absolute path start with your operating system?\n",
    "Ans. The absolute path starts with \"C:\" in windows and \"/\" in Linux."
   ]
  },
  {
   "cell_type": "markdown",
   "metadata": {},
   "source": [
    "3.What do the functions os.getcwd() and os.chdir() do?\n",
    "Ans. The Functions os.getcwd() tells us the location of current working directory and os.chdir() is used to change the location of current working directory to wanted location."
   ]
  },
  {
   "cell_type": "markdown",
   "metadata": {},
   "source": [
    "4.What are the . and .. folders?\n",
    "Ans. \".\"represent the current directory and \"..\" represent the parent directory"
   ]
  },
  {
   "cell_type": "markdown",
   "metadata": {},
   "source": [
    "5.In C:\\bacon\\eggs\\spam.txt, which part is the dir name, and which part is the base name?\n",
    "Ans. dir name is C:\\bacon\\eggs and base name is spam.txt."
   ]
  },
  {
   "cell_type": "markdown",
   "metadata": {},
   "source": [
    "6.What are the three “mode” arguments that can be passed to the open() function?\n",
    "Ans. The three mode arguments that can be passed to the open() function are.\n",
    "    ‘r’ – Read Mode: This is the default mode for open(). The file is opened and a pointer is positioned at the beginning of  the file’s content.\n",
    "    ‘w’ – Write Mode: Using this mode will overwrite any existing content in a file. If the given file does not exist, a new one will be created.\n",
    "    ‘x’ – Exclusive Creating Mode: This mode is for the sole purpose of creating new files. Use this mode if you know the file to be written doesn’t exist beforehand."
   ]
  },
  {
   "cell_type": "markdown",
   "metadata": {},
   "source": [
    "7.What happens if an existing file is opened in write mode?\n",
    "Ans. In this mode will overwrite any existing content in a file."
   ]
  },
  {
   "cell_type": "markdown",
   "metadata": {},
   "source": [
    "8.How do you tell the difference between read() and readlines()?\n",
    "Ans. read() - 1. read the whole file at once and then print out the first characters that take up as many bytes as you specify in the parenthesis.\n",
    "2.read will treate the each character in the file separately, meaning that the iteration would happen for every character.\n",
    "\n",
    "readlines() - 1.read and print out only the first characters that take up as many bytes as you specify in the parenthesis. You may want to use readline() when you're reading files that are too big for your RAM.\n",
    "2.This function will read only the first line of the file, If the first line content is 3 lines long it will read only first line."
   ]
  },
  {
   "cell_type": "markdown",
   "metadata": {},
   "source": [
    "9.What data structure does a shelf value resemble?\n",
    "Ans. Dictionary represnts the key and values"
   ]
  }
 ],
 "metadata": {
  "kernelspec": {
   "display_name": "Python 3",
   "language": "python",
   "name": "python3"
  },
  "language_info": {
   "codemirror_mode": {
    "name": "ipython",
    "version": 3
   },
   "file_extension": ".py",
   "mimetype": "text/x-python",
   "name": "python",
   "nbconvert_exporter": "python",
   "pygments_lexer": "ipython3",
   "version": "3.8.3"
  }
 },
 "nbformat": 4,
 "nbformat_minor": 4
}
