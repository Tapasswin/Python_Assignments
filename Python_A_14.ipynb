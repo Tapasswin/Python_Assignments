{
 "cells": [
  {
   "cell_type": "markdown",
   "metadata": {},
   "source": [
    "1.What does RGBA stand for?\n",
    "\n",
    "Ans. RGBA stands for Red Green Blue and Alpha value, It is the extention of RGB and Alpha channel specifies the opacity of the color."
   ]
  },
  {
   "cell_type": "markdown",
   "metadata": {},
   "source": [
    "2.From the Pillow module, how do you get the RGBA value of any images?\n",
    "\n",
    "Ans. ImageColor.getcolor() will give RGBA values of any image."
   ]
  },
  {
   "cell_type": "markdown",
   "metadata": {},
   "source": [
    "3.What is a box tuple, and how does it work?\n",
    "\n",
    "Ans. The Box Tuple is a tuple of four integers, Left The x-coordinate of the leftmost edge of the box, Top The y-coordinate of the top edge of the box, width and height."
   ]
  },
  {
   "cell_type": "markdown",
   "metadata": {},
   "source": [
    "4.Use your image and load in notebook then, How can you find out the width and height of an\n",
    "Image object?\n"
   ]
  },
  {
   "cell_type": "code",
   "execution_count": 2,
   "metadata": {},
   "outputs": [
    {
     "name": "stdout",
     "output_type": "stream",
     "text": [
      "width,height -> (225, 225)\n",
      "width,height -> 225,225\n"
     ]
    }
   ],
   "source": [
    "from PIL import Image\n",
    "img = Image.open(\"images.jpg\")\n",
    "print(f'width,height -> {img.size}')\n",
    "print(f'width,height -> {img.width},{img.height}')"
   ]
  },
  {
   "cell_type": "markdown",
   "metadata": {},
   "source": [
    "5.What method would you call to get Image object for a 100×100 image, excluding the lower-left\n",
    "quarter of it?\n"
   ]
  },
  {
   "cell_type": "code",
   "execution_count": 3,
   "metadata": {},
   "outputs": [],
   "source": [
    "from PIL import Image\n",
    "img = Image.open(\"images.jpg\")\n",
    "n_img = img.crop((0,0,25,25))"
   ]
  },
  {
   "cell_type": "markdown",
   "metadata": {},
   "source": [
    "6.After making changes to an Image object, how could you save it as an image file?\n",
    "\n",
    "Ans. We can use save() method to save the image file."
   ]
  },
  {
   "cell_type": "markdown",
   "metadata": {},
   "source": [
    "7.What module contains Pillow’s shape-drawing code?\n",
    "\n",
    "Ans. ImageDraw module contains shape drawing code."
   ]
  },
  {
   "cell_type": "markdown",
   "metadata": {},
   "source": [
    "8.Image objects do not have drawing methods. What kind of object does? How do you get this kind\n",
    "of object?\n",
    "\n",
    "Ans. We can have shape-drawing methods such as point(),line() or rectangle().They are returned by passing the image object to the ImageDraw.Draw() function."
   ]
  },
  {
   "cell_type": "code",
   "execution_count": null,
   "metadata": {},
   "outputs": [],
   "source": []
  }
 ],
 "metadata": {
  "kernelspec": {
   "display_name": "Python 3",
   "language": "python",
   "name": "python3"
  },
  "language_info": {
   "codemirror_mode": {
    "name": "ipython",
    "version": 3
   },
   "file_extension": ".py",
   "mimetype": "text/x-python",
   "name": "python",
   "nbconvert_exporter": "python",
   "pygments_lexer": "ipython3",
   "version": "3.8.3"
  }
 },
 "nbformat": 4,
 "nbformat_minor": 4
}
