{
 "cells": [
  {
   "cell_type": "markdown",
   "metadata": {},
   "source": [
    "1.What advantages do Excel spreadsheets have over CSV spreadsheets?\n",
    "\n",
    "Ans.In Excel we can store and analyse complex data and also can perform some formulas on the data.\n",
    "   \n",
    "   CSV contains plain text file comma separated values we cannot apply any formulas on it."
   ]
  },
  {
   "cell_type": "markdown",
   "metadata": {},
   "source": [
    "2.What do you pass to csv.reader() and csv.writer() to create reader and writer objects?\n",
    "\n",
    "Ans. For both the reader and writer function we will be mainly giving this parameters.\n",
    "\n",
    "1.File - the file name\n",
    "\n",
    "2.delimiter - the value which separate the values in csv\n",
    "\n",
    "3.fieldnames - if want colunm names need to provide list of it."
   ]
  },
  {
   "cell_type": "markdown",
   "metadata": {},
   "source": [
    "3.What modes do File objects for reader and writer objects need to be opened in?\n",
    "\n",
    "Ans. For csv.reader we need to open the file with mode = 'r' and for csv.writer we need to open the file with mode = 'w'."
   ]
  },
  {
   "cell_type": "markdown",
   "metadata": {},
   "source": [
    "4.What method takes a list argument and writes it to a CSV file?\n",
    "\n",
    "Ans. In csv.writer we have two function they are:\n",
    "\n",
    "1.writerow() - method is used to write a single row at a time.\n",
    "\n",
    "2.writerows() - method is used to write multiple rows at a time."
   ]
  },
  {
   "cell_type": "markdown",
   "metadata": {},
   "source": [
    "5.What do the keyword arguments delimiter and line terminator do?\n",
    "\n",
    "Ans. In CSV file we will be having the values as comma separate (',') so we use delimiter to separate the values and line terminator comes at end of line by default it is newline and can changed according to the requirement."
   ]
  },
  {
   "cell_type": "markdown",
   "metadata": {},
   "source": [
    "6.What function takes a string of JSON data and returns a Python data structure?\n",
    "\n",
    "Ans. json.loads() method take as string and returns a python data structure"
   ]
  },
  {
   "cell_type": "markdown",
   "metadata": {},
   "source": [
    "7.What function takes a Python data structure and returns a string of JSON data?\n",
    "\n",
    "Ans. json.dumps() method takes the python data structure and return JSON data."
   ]
  }
 ],
 "metadata": {
  "kernelspec": {
   "display_name": "Python 3",
   "language": "python",
   "name": "python3"
  },
  "language_info": {
   "codemirror_mode": {
    "name": "ipython",
    "version": 3
   },
   "file_extension": ".py",
   "mimetype": "text/x-python",
   "name": "python",
   "nbconvert_exporter": "python",
   "pygments_lexer": "ipython3",
   "version": "3.8.3"
  }
 },
 "nbformat": 4,
 "nbformat_minor": 4
}
