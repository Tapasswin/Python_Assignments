{
 "cells": [
  {
   "cell_type": "markdown",
   "metadata": {},
   "source": [
    "1.What does an empty dictionary's code look like?\n",
    "\n",
    "Ans. An Empty Dictionary will represented by two empty curly bracket as below \n",
    "        d = {} \n",
    "        or \n",
    "        Can also represented  as d = dict()"
   ]
  },
  {
   "cell_type": "markdown",
   "metadata": {},
   "source": [
    "2.What is the value of a dictionary value with the key 'foo' and the value 42?\n",
    "\n",
    "Ans. The value of a dictionary is {'foo':42}"
   ]
  },
  {
   "cell_type": "markdown",
   "metadata": {},
   "source": [
    "3.What is the most significant distinction between a dictionary and a list?\n",
    "\n",
    "Ans. The distinction between dictionary and list are\n",
    "    1.Dictionarys are represnted with {} and list is represented with [].\n",
    "    2.Dictionarys are Unordered and list is Ordered"
   ]
  },
  {
   "cell_type": "markdown",
   "metadata": {},
   "source": [
    "4.What happens if you try to access spam['foo'] if spam is {'bar': 100}?\n",
    "\n",
    "Ans. It will throw a keyError KeyError:'foo'"
   ]
  },
  {
   "cell_type": "markdown",
   "metadata": {},
   "source": [
    "5.If a dictionary is stored in spam, what is the difference between the expressions 'cat' in spam and 'cat' in spam.keys()?\n",
    "\n",
    "Ans. No differnece just it will checks weather a value is exits as a key in dictionary are not."
   ]
  },
  {
   "cell_type": "markdown",
   "metadata": {},
   "source": [
    "6.If a dictionary is stored in spam, what is the difference between the expressions 'cat' in spam and 'cat' in spam.values()?\n",
    "\n",
    "Ans. It will check that the 'cat' key is present are not and checks that 'cat' key has any value in spam dictionary."
   ]
  },
  {
   "cell_type": "markdown",
   "metadata": {},
   "source": [
    "7.What is a shortcut for the following code?\n",
    "if 'color' not in spam:\n",
    "spam['color'] = 'black'\n",
    "\n",
    "Ans. spam.setdefault('color','black')"
   ]
  },
  {
   "cell_type": "markdown",
   "metadata": {},
   "source": [
    "8.How do you \"pretty print\" dictionary values using which module and function?\n",
    "\n",
    "Ans.  We can pretty print a dictionary using three functions\n",
    "        1.By using pprint() function of pprint module\n",
    "        2.By using dumps() method of json module\n",
    "        3.By using dumps() method of yaml module"
   ]
  }
 ],
 "metadata": {
  "kernelspec": {
   "display_name": "Python 3",
   "language": "python",
   "name": "python3"
  },
  "language_info": {
   "codemirror_mode": {
    "name": "ipython",
    "version": 3
   },
   "file_extension": ".py",
   "mimetype": "text/x-python",
   "name": "python",
   "nbconvert_exporter": "python",
   "pygments_lexer": "ipython3",
   "version": "3.8.3"
  }
 },
 "nbformat": 4,
 "nbformat_minor": 4
}
